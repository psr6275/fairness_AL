{
 "cells": [
  {
   "cell_type": "code",
   "execution_count": 1,
   "metadata": {},
   "outputs": [],
   "source": [
    "import numpy as np\n",
    "from utils.data_utils import load_simulation_data\n",
    "from sklearn.linear_model import LogisticRegression as LR\n",
    "from numpy.linalg import norm"
   ]
  },
  {
   "cell_type": "code",
   "execution_count": 2,
   "metadata": {},
   "outputs": [],
   "source": [
    "def grad_logis(X,y,model):\n",
    "    \"\"\"find gradients of cost function w.r.t. the coefficients in logistic regression\"\"\"\n",
    "    prob = model.predict_proba(X)\n",
    "    prob1 = prob[:,1]\n",
    "    X1 = np.hstack([np.ones((X.shape[0],1)), X])\n",
    "    grad = np.matmul(np.diag(prob1-y),X1)\n",
    "    return grad\n",
    "\n",
    "def grad_logis_prob(X,model):\n",
    "    \"\"\"find gradients of predicted probability w.r.t. the coefficients in logistic regression\"\"\"\n",
    "    prob = model.predict_proba(X)\n",
    "    prob01 = prob[:,0]*prob[:,1]\n",
    "    X1 = np.hstack([np.ones((X.shape[0],1)), X])\n",
    "    grad = -np.matmul(np.diag(prob01),X1)\n",
    "    return grad\n",
    "\n",
    "def grad_logis_ent(X, model):\n",
    "    \"\"\"find gradients of entropy w.r.t the coefficients in logistic regression\"\"\"\n",
    "    logprob = model.predict_log_proba(X)\n",
    "    logprob1m0 = -(logprob[:,1]-logprob[:,0])\n",
    "    pgrad = grad_logis_prob(X,model)\n",
    "    grad = np.matmul(np.diag(logprob1m0), pgrad)\n",
    "    return grad"
   ]
  },
  {
   "cell_type": "code",
   "execution_count": 10,
   "metadata": {},
   "outputs": [],
   "source": [
    "L0 = 100\n",
    "B = 30\n",
    "n_iter = 50\n",
    "rep = 10\n",
    "nest = 100"
   ]
  },
  {
   "cell_type": "code",
   "execution_count": 11,
   "metadata": {},
   "outputs": [],
   "source": [
    "acc_tr = np.zeros((rep,n_iter))\n",
    "acc_tr0 = np.zeros((rep,n_iter))\n",
    "acc_tr1 = np.zeros((rep,n_iter))\n",
    "acc_L = np.zeros((rep,n_iter))\n",
    "acc_L0 = np.zeros((rep,n_iter))\n",
    "acc_L1 = np.zeros((rep,n_iter))\n",
    "acc_U = np.zeros((rep,n_iter))\n",
    "acc_U0 = np.zeros((rep,n_iter))\n",
    "acc_U1 = np.zeros((rep,n_iter))\n",
    "acc_te = np.zeros((rep,n_iter))\n",
    "acc_te0 = np.zeros((rep,n_iter))\n",
    "acc_te1 = np.zeros((rep,n_iter))"
   ]
  },
  {
   "cell_type": "code",
   "execution_count": 12,
   "metadata": {},
   "outputs": [
    {
     "name": "stdout",
     "output_type": "stream",
     "text": [
      "0\n",
      "1\n",
      "2\n",
      "3\n",
      "4\n",
      "5\n",
      "6\n",
      "7\n",
      "8\n"
     ]
    },
    {
     "name": "stderr",
     "output_type": "stream",
     "text": [
      "/home/srp/.pyenv/versions/miniconda3-4.7.12/envs/pytorch15/lib/python3.8/site-packages/sklearn/linear_model/_logistic.py:814: ConvergenceWarning: lbfgs failed to converge (status=1):\n",
      "STOP: TOTAL NO. of ITERATIONS REACHED LIMIT.\n",
      "\n",
      "Increase the number of iterations (max_iter) or scale the data as shown in:\n",
      "    https://scikit-learn.org/stable/modules/preprocessing.html\n",
      "Please also refer to the documentation for alternative solver options:\n",
      "    https://scikit-learn.org/stable/modules/linear_model.html#logistic-regression\n",
      "  n_iter_i = _check_optimize_result(\n"
     ]
    },
    {
     "name": "stdout",
     "output_type": "stream",
     "text": [
      "9\n"
     ]
    }
   ],
   "source": [
    "for state in range(rep):\n",
    "    print(state)\n",
    "    Xtr,Xte,ytr,yte,ztr,zte = load_simulation_data(simulation_params = {'p':100,'q':40, 'r':10, 'b':0, 't':0}, \n",
    "                                               n1=2000, n2=1000, svm=False, random_state=state, intercept=False, \n",
    "                                               train_frac = 0.7)\n",
    "    # data preprocessing\n",
    "    yytr = ytr.ravel()\n",
    "    yyte = yte.ravel()\n",
    "    zztr = ztr.ravel()\n",
    "    zzte = zte.ravel()\n",
    "    Xtr0 = Xtr[zztr==0]\n",
    "    Xtr1 = Xtr[zztr==1]\n",
    "    Xte0 = Xte[zzte==0]\n",
    "    Xte1 = Xte[zzte==1]\n",
    "    yytr0 = yytr[zztr==0]\n",
    "    yytr1 = yytr[zztr==1]\n",
    "    yyte0 = yyte[zzte==0]\n",
    "    yyte1 = yyte[zzte==1]\n",
    "    \n",
    "    # initialization\n",
    "    N = zztr.shape[0]\n",
    "    perm = np.random.permutation(N)\n",
    "    XL = Xtr[perm[0:L0],:]\n",
    "    XU = Xtr[perm[L0:],:]\n",
    "    yL = yytr[perm[0:L0]]\n",
    "    yU = yytr[perm[L0:]]\n",
    "    zL = zztr[perm[0:L0]]\n",
    "    zU = zztr[perm[L0:]]\n",
    "    XL0 = XL[zL==0]\n",
    "    XL1 = XL[zL==1]\n",
    "    yL0 = yL[zL==0]\n",
    "    yL1 = yL[zL==1]\n",
    "    XU0 = XU[zU==0]\n",
    "    XU1 = XU[zU==1]\n",
    "    yU0 = yU[zU==0]\n",
    "    yU1 = yU[zU==1]\n",
    "    \n",
    "    for i in range(n_iter):\n",
    "        # model fitting and prediction\n",
    "        clf=LR(random_state=state).fit(XL, yL)\n",
    "        acc_tr[state, i] = clf.score(Xtr, yytr)\n",
    "        acc_tr0[state, i] = clf.score(Xtr0, yytr0)\n",
    "        acc_tr1[state, i] = clf.score(Xtr1, yytr1)\n",
    "        acc_L[state, i] = clf.score(XL, yL)\n",
    "        acc_L0[state, i] = clf.score(XL0, yL0)\n",
    "        acc_L1[state, i] = clf.score(XL1, yL1)\n",
    "        acc_U[state, i] = clf.score(XU, yU)\n",
    "        acc_U0[state, i] = clf.score(XU0, yU0)\n",
    "        acc_U1[state, i] = clf.score(XU1, yU1)\n",
    "        acc_te[state, i] = clf.score(Xte, yyte)\n",
    "        acc_te0[state, i] = clf.score(Xte0, yyte0)\n",
    "        acc_te1[state, i] = clf.score(Xte1, yyte1)\n",
    "        \n",
    "        # modify next labeled and ulabeled sets\n",
    "        \n",
    "        # worst group selection\n",
    "        if acc_L0[state, i]<acc_L1[state, i]:\n",
    "            wg = 0\n",
    "            Xw = XL0\n",
    "            yw = yL0\n",
    "        else:\n",
    "            wg = 1\n",
    "            Xw = XL1\n",
    "            yw = yL1\n",
    "        \n",
    "        # calculate entropy first, and then select the \"nest\" number of input data points\n",
    "        \n",
    "        prob = clf.predict_proba(XU)\n",
    "        ent = -prob[:,0]*np.log(prob[:,0])-prob[:,1]*np.log(prob[:,1])\n",
    "        arg_ent = np.argpartition(ent, -nest)\n",
    "        lind_ent = arg_ent[-nest:]\n",
    "        uind_ent = arg_ent[:-nest]\n",
    "        Xent = XU[lind_ent,:]\n",
    "        # print(Xent.shape)\n",
    "        \n",
    "        grad_w = np.mean(grad_logis(Xw, yw, clf), axis=0)\n",
    "        # print(grad_w.shape)\n",
    "        grad1 = grad_logis_prob(Xent,clf)\n",
    "        grad0 = -grad1\n",
    "        # prob = clf.predict_proba(XU)[:,1]\n",
    "        prob_grad = clf.predict_proba(Xent)\n",
    "        prob2 = 2*prob_grad[:,1]-1\n",
    "        grad_ent = np.multiply(grad1, prob2[:,None]) # expected grad\n",
    "        # print(grad_U.shape)\n",
    "        cossim = np.matmul(grad_ent, grad_w)\n",
    "        # cossim = np.abs(cossim)\n",
    "        # print(cossim.shape)\n",
    "        arg_grad = np.argpartition(cossim,-B)\n",
    "        lind_grad = arg_grad[-B:]\n",
    "        uind_grad = arg_grad[:-B]\n",
    "        \n",
    "        lind = lind_ent[lind_grad]\n",
    "        uind = np.append(uind_ent, lind_ent[uind_grad])\n",
    "        \n",
    "        # selection\n",
    "        XL = np.vstack([XL, XU[lind,:]])\n",
    "        yL = np.append(yL, yU[lind])\n",
    "        zL = np.append(zL, yU[lind])\n",
    "        XU = XU[uind,:]\n",
    "        yU = yU[uind]\n",
    "        zU = zU[uind]\n",
    "        XL0 = XL[zL==0]\n",
    "        XL1 = XL[zL==1]\n",
    "        yL0 = yL[zL==0]\n",
    "        yL1 = yL[zL==1]\n",
    "        XU0 = XU[zU==0]\n",
    "        XU1 = XU[zU==1]\n",
    "        yU0 = yU[zU==0]\n",
    "        yU1 = yU[zU==1]\n",
    "        "
   ]
  },
  {
   "cell_type": "code",
   "execution_count": 43,
   "metadata": {},
   "outputs": [
    {
     "data": {
      "image/png": "[encoded data removed]",
      "text/plain": [
       "<Figure size 432x288 with 1 Axes>"
      ]
     },
     "metadata": {
      "needs_background": "light"
     },
     "output_type": "display_data"
    },
    {
     "data": {
      "image/png": "[encoded data removed]",
      "text/plain": [
       "<Figure size 432x288 with 1 Axes>"
      ]
     },
     "metadata": {
      "needs_background": "light"
     },
     "output_type": "display_data"
    }
   ],
   "source": [
    "plt.hist(ytr)\n",
    "plt.show()\n",
    "plt.hist(ztr)\n",
    "plt.show()"
   ]
  },
  {
   "cell_type": "code",
   "execution_count": 13,
   "metadata": {},
   "outputs": [
    {
     "name": "stdout",
     "output_type": "stream",
     "text": [
      "[0.68655556 0.71711111 0.74211111 0.763      0.78588889 0.79744444\n",
      " 0.80766667 0.815      0.82411111 0.82988889 0.83366667 0.84266667\n",
      " 0.84655556 0.85144444 0.853      0.85688889 0.85811111 0.86144444\n",
      " 0.86277778 0.86633333 0.86733333 0.86655556 0.86955556 0.87122222\n",
      " 0.87255556 0.87077778 0.874      0.87544444 0.87322222 0.87544444\n",
      " 0.87333333 0.873      0.87233333 0.87311111 0.87433333 0.87233333\n",
      " 0.87211111 0.87211111 0.87244444 0.87233333 0.87355556 0.87266667\n",
      " 0.87155556 0.87222222 0.87266667 0.87311111 0.87277778 0.87155556\n",
      " 0.87188889 0.87244444]\n",
      "[0.69014149 0.72339553 0.7531818  0.77491756 0.8004232  0.81606647\n",
      " 0.82947956 0.83752715 0.84729046 0.85431757 0.85857809 0.86785044\n",
      " 0.87527913 0.87915186 0.88108398 0.8881845  0.89222779 0.89517514\n",
      " 0.89843794 0.90141874 0.90417024 0.90472289 0.90569971 0.90711574\n",
      " 0.90893574 0.9066788  0.90977666 0.90917895 0.90685674 0.90839196\n",
      " 0.90670556 0.90565532 0.9050907  0.90505332 0.90785775 0.90571271\n",
      " 0.90436635 0.90417647 0.9038424  0.90317202 0.90449656 0.90455091\n",
      " 0.90333295 0.9030259  0.90286617 0.90254734 0.90274513 0.90118493\n",
      " 0.90182353 0.90132649]\n",
      "[0.6786011  0.70389348 0.71961472 0.73871367 0.75739845 0.76031239\n",
      " 0.76430419 0.76972816 0.77794959 0.78180884 0.78443031 0.79289415\n",
      " 0.78988016 0.79719936 0.79750185 0.79552401 0.79075845 0.79482669\n",
      " 0.7924209  0.79648857 0.79432078 0.79094061 0.79809377 0.80002639\n",
      " 0.80046301 0.80013114 0.80339916 0.80909861 0.80717162 0.81085618\n",
      " 0.8078403  0.8088658  0.80770761 0.81022406 0.80843616 0.806817\n",
      " 0.80887955 0.80915254 0.81094195 0.81187788 0.81304828 0.81029346\n",
      " 0.8093068  0.81189905 0.8136663  0.8156792  0.8142824  0.81355029\n",
      " 0.81318614 0.81587828]\n"
     ]
    }
   ],
   "source": [
    "print(np.mean(acc_te, axis=0))\n",
    "print(np.mean(acc_te0, axis=0))\n",
    "print(np.mean(acc_te1, axis=0))\n"
   ]
  },
  {
   "cell_type": "code",
   "execution_count": 7,
   "metadata": {},
   "outputs": [
    {
     "name": "stdout",
     "output_type": "stream",
     "text": [
      "5\n",
      "[7 1 3 9]\n"
     ]
    }
   ],
   "source": [
    "ind1 = np.array([1,3,5,7,9])\n",
    "ind2 = np.array([2,3])\n",
    "ind3 = np.array([0,1,4])\n",
    "\n",
    "ind4 = ind1[ind2[0]]\n",
    "ind5 = np.append(ind1[ind2[1]],ind1[ind3])\n",
    "\n",
    "print(ind4)\n",
    "print(ind5)"
   ]
  },
  {
   "cell_type": "code",
   "execution_count": 8,
   "metadata": {},
   "outputs": [],
   "source": [
    "results = {'acc_te':acc_te, 'acc_te0':acc_te0, 'acc_te1':acc_te1}"
   ]
  },
  {
   "cell_type": "code",
   "execution_count": 9,
   "metadata": {},
   "outputs": [],
   "source": [
    "import pickle\n",
    "with open('fairAL_nested.res','wb') as f:\n",
    "    pickle.dump(results, f)"
   ]
  },
  {
   "cell_type": "code",
   "execution_count": 31,
   "metadata": {},
   "outputs": [],
   "source": [
    "grads_m0_ = grad_logis_prob(XL0,clf)\n",
    "grads_m1_ = grad_logis_prob(XL1,clf)\n",
    "grads_m_= grad_logis_prob(XL,clf)\n",
    "grads_ind = grad_logis_prob(XU,clf)\n",
    "grads_ind0 = grad_logis_prob(XU0,clf)\n",
    "grads_ind1 = grad_logis_prob(XU1,clf)"
   ]
  },
  {
   "cell_type": "code",
   "execution_count": 27,
   "metadata": {},
   "outputs": [],
   "source": [
    "grads_m = np.mean(grads_m_,axis=0)\n",
    "grads_m0 = np.mean(grads_m0_,axis=0)\n",
    "grads_m1 = np.mean(grads_m1_,axis=0)"
   ]
  },
  {
   "cell_type": "code",
   "execution_count": 47,
   "metadata": {},
   "outputs": [
    {
     "data": {
      "text/plain": [
       "<matplotlib.colorbar.Colorbar at 0x7f864433e400>"
      ]
     },
     "execution_count": 47,
     "metadata": {},
     "output_type": "execute_result"
    },
    {
     "data": {
      "image/png": "[encoded data removed]",
      "text/plain": [
       "<Figure size 288x288 with 2 Axes>"
      ]
     },
     "metadata": {
      "needs_background": "light"
     },
     "output_type": "display_data"
    }
   ],
   "source": [
    "import matplotlib.pyplot as plt\n",
    "from sklearn.metrics.pairwise import cosine_similarity\n",
    "\n",
    "all_grads = np.row_stack((grads_m, grads_m0-grads_m, grads_m1-grads_m))\n",
    "sim_mat = cosine_similarity(all_grads, all_grads)\n",
    "\n",
    "plt.matshow(sim_mat)\n",
    "plt.colorbar()"
   ]
  },
  {
   "cell_type": "code",
   "execution_count": 48,
   "metadata": {},
   "outputs": [
    {
     "data": {
      "text/plain": [
       "array([[ 1.        , -0.93933393,  0.93933393],\n",
       "       [-0.93933393,  1.        , -1.        ],\n",
       "       [ 0.93933393, -1.        ,  1.        ]])"
      ]
     },
     "execution_count": 48,
     "metadata": {},
     "output_type": "execute_result"
    }
   ],
   "source": [
    "sim_mat"
   ]
  },
  {
   "cell_type": "code",
   "execution_count": 41,
   "metadata": {},
   "outputs": [
    {
     "data": {
      "text/plain": [
       "<matplotlib.colorbar.Colorbar at 0x7f86800acb50>"
      ]
     },
     "execution_count": 41,
     "metadata": {},
     "output_type": "execute_result"
    },
    {
     "data": {
      "image/png": "[encoded data removed]",
      "text/plain": [
       "<Figure size 1152x144 with 2 Axes>"
      ]
     },
     "metadata": {
      "needs_background": "light"
     },
     "output_type": "display_data"
    },
    {
     "data": {
      "image/png": "[encoded data removed]",
      "text/plain": [
       "<Figure size 1152x144 with 2 Axes>"
      ]
     },
     "metadata": {
      "needs_background": "light"
     },
     "output_type": "display_data"
    }
   ],
   "source": [
    "sim_mat_ind00 = cosine_similarity(np.expand_dims(grads_m0,axis=0), grads_ind0)\n",
    "plt.matshow(sim_mat_ind00)\n",
    "plt.colorbar()\n",
    "sim_mat_ind01 = cosine_similarity(np.expand_dims(grads_m1,axis=0), grads_ind0)\n",
    "plt.matshow(sim_mat_ind01)\n",
    "plt.colorbar()"
   ]
  },
  {
   "cell_type": "code",
   "execution_count": null,
   "metadata": {},
   "outputs": [],
   "source": [
    "sim_mat_ind0 = cosine_similarity(all_grads, grads_ind1)\n",
    "plt.matshow(sim_mat_ind1)\n",
    "plt.colorbar()"
   ]
  },
  {
   "cell_type": "raw",
   "metadata": {},
   "source": []
  }
 ],
 "metadata": {
  "kernelspec": {
   "display_name": "Python 3",
   "language": "python",
   "name": "python3"
  },
  "language_info": {
   "codemirror_mode": {
    "name": "ipython",
    "version": 3
   },
   "file_extension": ".py",
   "mimetype": "text/x-python",
   "name": "python",
   "nbconvert_exporter": "python",
   "pygments_lexer": "ipython3",
   "version": "3.8.3"
  }
 },
 "nbformat": 4,
 "nbformat_minor": 5
}
