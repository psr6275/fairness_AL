{
 "cells": [
  {
   "cell_type": "code",
   "execution_count": 48,
   "metadata": {},
   "outputs": [],
   "source": [
    "import numpy as np\n",
    "from utils.data_utils import load_simulation_data, load_adult_data, load_lsac_data, load_compas_data, load_german_data\n",
    "from sklearn.linear_model import LogisticRegression as LR\n",
    "from numpy.linalg import norm"
   ]
  },
  {
   "cell_type": "code",
   "execution_count": 49,
   "metadata": {},
   "outputs": [],
   "source": [
    "def grad_logis(X,y,model):\n",
    "    \"\"\"find gradients of cost function w.r.t. the coefficients in logistic regression\"\"\"\n",
    "    prob = model.predict_proba(X)\n",
    "    prob1 = prob[:,1]\n",
    "    X1 = np.hstack([np.ones((X.shape[0],1)), X])\n",
    "    grad = np.matmul(np.diag(prob1-y),X1)\n",
    "    return grad\n",
    "\n",
    "def grad_logis_prob(X,model):\n",
    "    \"\"\"find gradients of predicted probability w.r.t. the coefficients in logistic regression\"\"\"\n",
    "    prob = model.predict_proba(X)\n",
    "    prob01 = prob[:,0]*prob[:,1]\n",
    "    X1 = np.hstack([np.ones((X.shape[0],1)), X])\n",
    "    grad = -np.matmul(np.diag(prob01),X1)\n",
    "    return grad\n",
    "\n",
    "def grad_logis_ent(X, model):\n",
    "    \"\"\"find gradients of entropy w.r.t the coefficients in logistic regression\"\"\"\n",
    "    logprob = model.predict_log_proba(X)\n",
    "    logprob1m0 = -(logprob[:,1]-logprob[:,0])\n",
    "    pgrad = grad_logis_prob(X,model)\n",
    "    grad = np.matmul(np.diag(logprob1m0), pgrad)\n",
    "    return grad"
   ]
  },
  {
   "cell_type": "code",
   "execution_count": 87,
   "metadata": {},
   "outputs": [],
   "source": [
    "L0 = 100\n",
    "B = 30\n",
    "n_iter = 50\n",
    "rep = 10\n",
    "nest = 100"
   ]
  },
  {
   "cell_type": "code",
   "execution_count": 88,
   "metadata": {},
   "outputs": [],
   "source": [
    "acc_tr = np.zeros((rep,n_iter))\n",
    "acc_tr0 = np.zeros((rep,n_iter))\n",
    "acc_tr1 = np.zeros((rep,n_iter))\n",
    "acc_L = np.zeros((rep,n_iter))\n",
    "acc_L0 = np.zeros((rep,n_iter))\n",
    "acc_L1 = np.zeros((rep,n_iter))\n",
    "acc_U = np.zeros((rep,n_iter))\n",
    "acc_U0 = np.zeros((rep,n_iter))\n",
    "acc_U1 = np.zeros((rep,n_iter))\n",
    "acc_te = np.zeros((rep,n_iter))\n",
    "acc_te0 = np.zeros((rep,n_iter))\n",
    "acc_te1 = np.zeros((rep,n_iter))"
   ]
  },
  {
   "cell_type": "code",
   "execution_count": 96,
   "metadata": {},
   "outputs": [
    {
     "name": "stdout",
     "output_type": "stream",
     "text": [
      "0\n",
      "1\n",
      "2\n",
      "3\n",
      "4\n",
      "5\n",
      "6\n",
      "7\n",
      "8\n",
      "9\n"
     ]
    }
   ],
   "source": [
    "for state in range(rep):\n",
    "    print(state)\n",
    "    Xtr,Xte,ytr,yte,ztr,zte = load_compas_data(svm=False, random_state=state, intercept=False, \n",
    "                                               train_frac = 0.7)\n",
    "    # data preprocessing\n",
    "    yytr = ytr.ravel()\n",
    "    yyte = yte.ravel()\n",
    "    zztr = ztr.ravel()\n",
    "    zzte = zte.ravel()\n",
    "    Xtr0 = Xtr[zztr==0]\n",
    "    Xtr1 = Xtr[zztr==1]\n",
    "    Xte0 = Xte[zzte==0]\n",
    "    Xte1 = Xte[zzte==1]\n",
    "    yytr0 = yytr[zztr==0]\n",
    "    yytr1 = yytr[zztr==1]\n",
    "    yyte0 = yyte[zzte==0]\n",
    "    yyte1 = yyte[zzte==1]\n",
    "    \n",
    "    # initialization\n",
    "    N = zztr.shape[0]\n",
    "    perm = np.random.permutation(N)\n",
    "    XL = Xtr[perm[0:L0],:]\n",
    "    XU = Xtr[perm[L0:],:]\n",
    "    yL = yytr[perm[0:L0]]\n",
    "    yU = yytr[perm[L0:]]\n",
    "    zL = zztr[perm[0:L0]]\n",
    "    zU = zztr[perm[L0:]]\n",
    "    XL0 = XL[zL==0]\n",
    "    XL1 = XL[zL==1]\n",
    "    yL0 = yL[zL==0]\n",
    "    yL1 = yL[zL==1]\n",
    "    XU0 = XU[zU==0]\n",
    "    XU1 = XU[zU==1]\n",
    "    yU0 = yU[zU==0]\n",
    "    yU1 = yU[zU==1]\n",
    "    \n",
    "    for i in range(n_iter):\n",
    "        # model fitting and prediction\n",
    "        clf=LR(random_state=state).fit(XL, yL)\n",
    "        acc_tr[state, i] = clf.score(Xtr, yytr)\n",
    "        acc_tr0[state, i] = clf.score(Xtr0, yytr0)\n",
    "        acc_tr1[state, i] = clf.score(Xtr1, yytr1)\n",
    "        acc_L[state, i] = clf.score(XL, yL)\n",
    "        acc_L0[state, i] = clf.score(XL0, yL0)\n",
    "        acc_L1[state, i] = clf.score(XL1, yL1)\n",
    "        acc_U[state, i] = clf.score(XU, yU)\n",
    "        acc_U0[state, i] = clf.score(XU0, yU0)\n",
    "        acc_U1[state, i] = clf.score(XU1, yU1)\n",
    "        acc_te[state, i] = clf.score(Xte, yyte)\n",
    "        acc_te0[state, i] = clf.score(Xte0, yyte0)\n",
    "        acc_te1[state, i] = clf.score(Xte1, yyte1)\n",
    "        \n",
    "        # modify next labeled and ulabeled sets\n",
    "        \n",
    "        # worst group selection\n",
    "        if acc_L0[state, i]<acc_L1[state, i]:\n",
    "            wg = 0\n",
    "            Xw = XL0\n",
    "            yw = yL0\n",
    "        else:\n",
    "            wg = 1\n",
    "            Xw = XL1\n",
    "            yw = yL1\n",
    "        \n",
    "        # calculate entropy first, and then select the \"nest\" number of input data points\n",
    "        \n",
    "        prob = clf.predict_proba(XU)\n",
    "        ent = -prob[:,0]*np.log(prob[:,0])-prob[:,1]*np.log(prob[:,1])\n",
    "#         print(XU.shape)\n",
    "        arg_ent = np.argpartition(ent, -nest)\n",
    "        lind_ent = arg_ent[-nest:]\n",
    "        uind_ent = arg_ent[:-nest]\n",
    "        Xent = XU[lind_ent,:]\n",
    "        # print(Xent.shape)\n",
    "        \n",
    "        grad_w = np.mean(grad_logis(Xw, yw, clf), axis=0)\n",
    "        # print(grad_w.shape)\n",
    "        grad1 = grad_logis_prob(Xent,clf)\n",
    "        grad0 = -grad1\n",
    "        # prob = clf.predict_proba(XU)[:,1]\n",
    "        prob_grad = clf.predict_proba(Xent)\n",
    "        prob2 = 2*prob_grad[:,1]-1\n",
    "        grad_ent = np.multiply(grad1, prob2[:,None]) # expected grad\n",
    "        # print(grad_U.shape)\n",
    "        cossim = np.matmul(grad_ent, grad_w)\n",
    "        # cossim = np.abs(cossim)\n",
    "        # print(cossim.shape)\n",
    "        arg_grad = np.argpartition(cossim,-B)\n",
    "        lind_grad = arg_grad[-B:]\n",
    "        uind_grad = arg_grad[:-B]\n",
    "        \n",
    "        lind = lind_ent[lind_grad]\n",
    "        uind = np.append(uind_ent, lind_ent[uind_grad])\n",
    "        \n",
    "        # selection\n",
    "        XL = np.vstack([XL, XU[lind,:]])\n",
    "        yL = np.append(yL, yU[lind])\n",
    "        zL = np.append(zL, yU[lind])\n",
    "        XU = XU[uind,:]\n",
    "        yU = yU[uind]\n",
    "        zU = zU[uind]\n",
    "        XL0 = XL[zL==0]\n",
    "        XL1 = XL[zL==1]\n",
    "        yL0 = yL[zL==0]\n",
    "        yL1 = yL[zL==1]\n",
    "        XU0 = XU[zU==0]\n",
    "        XU1 = XU[zU==1]\n",
    "        yU0 = yU[zU==0]\n",
    "        yU1 = yU[zU==1]\n",
    "        "
   ]
  },
  {
   "cell_type": "code",
   "execution_count": 90,
   "metadata": {},
   "outputs": [
    {
     "name": "stdout",
     "output_type": "stream",
     "text": [
      "[0.80110469 0.80011298 0.80423048 0.80738137 0.80782074 0.80980417\n",
      " 0.8117876  0.81276676 0.81523977 0.81714788 0.81810193 0.81933216\n",
      " 0.81970876 0.82095154 0.82176751 0.82214411 0.82317349 0.82314838\n",
      " 0.82357519 0.82403967 0.82439116 0.82449159 0.82504394 0.82490585\n",
      " 0.8254582  0.82500628 0.82543309 0.82563394 0.82588501 0.82582224\n",
      " 0.82542054 0.82577203 0.82589756 0.8258599  0.82569671 0.82611097\n",
      " 0.82588501 0.82575948 0.82577203 0.82589756 0.82599799 0.82618629\n",
      " 0.82643736 0.82626161 0.82643736 0.82641225 0.82611097 0.82616119\n",
      " 0.82614863 0.82609842]\n",
      "[0.80091665 0.79961105 0.80319705 0.80604354 0.80648738 0.80760406\n",
      " 0.80944237 0.81049386 0.81284501 0.81479317 0.81600113 0.81704969\n",
      " 0.81758804 0.81890784 0.81958117 0.82051812 0.82143671 0.82174925\n",
      " 0.82219804 0.8225997  0.82271366 0.82336225 0.82374133 0.82392174\n",
      " 0.82387568 0.82331791 0.82371934 0.82437042 0.82448098 0.82441581\n",
      " 0.82401002 0.82468144 0.82459266 0.82430256 0.82425775 0.82452598\n",
      " 0.82459365 0.8241914  0.82439252 0.82441632 0.82441633 0.82470461\n",
      " 0.82490518 0.82486204 0.82483967 0.82515432 0.82468328 0.82483984\n",
      " 0.82501956 0.82506553]\n",
      "[0.80136121 0.80076003 0.80555265 0.80909879 0.80952941 0.81262011\n",
      " 0.81479344 0.81567735 0.81831141 0.82016929 0.8208049  0.82225977\n",
      " 0.82244035 0.823575   0.82457395 0.82423911 0.82540873 0.82495227\n",
      " 0.82535455 0.82589693 0.82655498 0.82595482 0.82672563 0.82617914\n",
      " 0.82749611 0.8271798  0.82763535 0.82726655 0.82769482 0.82763723\n",
      " 0.82723812 0.82717826 0.82757898 0.8278653  0.82755126 0.82815237\n",
      " 0.82755413 0.82778172 0.82754836 0.82780661 0.82803526 0.82809276\n",
      " 0.8284065  0.82806484 0.82849173 0.82803587 0.82795061 0.8278649\n",
      " 0.82760551 0.82743496]\n"
     ]
    }
   ],
   "source": [
    "print(np.mean(acc_te, axis=0))\n",
    "print(np.mean(acc_te0, axis=0))\n",
    "print(np.mean(acc_te1, axis=0))\n"
   ]
  },
  {
   "cell_type": "code",
   "execution_count": 97,
   "metadata": {},
   "outputs": [],
   "source": [
    "results = {'acc_te':acc_te, 'acc_te0':acc_te0, 'acc_te1':acc_te1}"
   ]
  },
  {
   "cell_type": "code",
   "execution_count": 98,
   "metadata": {},
   "outputs": [],
   "source": [
    "import pickle\n",
    "with open('fairAL_nested_compas.res','wb') as f:\n",
    "    pickle.dump(results, f)"
   ]
  },
  {
   "cell_type": "code",
   "execution_count": 99,
   "metadata": {},
   "outputs": [],
   "source": [
    "with open('fairAL_nested_compas.res','rb') as f:\n",
    "    res_nest = pickle.load(f)\n",
    "all_acc_nes = np.mean(res_nest['acc_te'],axis=0)\n",
    "g0_acc_nes = np.mean(res_nest['acc_te0'],axis=0)\n",
    "g1_acc_nes = np.mean(res_nest['acc_te1'],axis=0)"
   ]
  },
  {
   "cell_type": "code",
   "execution_count": 100,
   "metadata": {},
   "outputs": [
    {
     "data": {
      "image/png": "[encoded data removed]",
      "text/plain": [
       "<Figure size 432x288 with 1 Axes>"
      ]
     },
     "metadata": {
      "needs_background": "light"
     },
     "output_type": "display_data"
    }
   ],
   "source": [
    "import matplotlib.pyplot as plt\n",
    "plt.figure()\n",
    "plt.plot(all_acc_nes,label='all')\n",
    "plt.plot(g0_acc_nes,label='g0')\n",
    "plt.plot(g1_acc_nes,label='g1')\n",
    "plt.legend()\n",
    "plt.show()"
   ]
  },
  {
   "cell_type": "code",
   "execution_count": null,
   "metadata": {},
   "outputs": [],
   "source": [
    "import pickle\n",
    "with open('fairAL_nested_german.res','wb') as f:\n",
    "    pickle.dump(results, f)"
   ]
  },
  {
   "cell_type": "code",
   "execution_count": null,
   "metadata": {},
   "outputs": [],
   "source": []
  },
  {
   "cell_type": "code",
   "execution_count": null,
   "metadata": {},
   "outputs": [],
   "source": []
  },
  {
   "cell_type": "code",
   "execution_count": 31,
   "metadata": {},
   "outputs": [],
   "source": [
    "grads_m0_ = grad_logis_prob(XL0,clf)\n",
    "grads_m1_ = grad_logis_prob(XL1,clf)\n",
    "grads_m_= grad_logis_prob(XL,clf)\n",
    "grads_ind = grad_logis_prob(XU,clf)\n",
    "grads_ind0 = grad_logis_prob(XU0,clf)\n",
    "grads_ind1 = grad_logis_prob(XU1,clf)"
   ]
  },
  {
   "cell_type": "code",
   "execution_count": 27,
   "metadata": {},
   "outputs": [],
   "source": [
    "grads_m = np.mean(grads_m_,axis=0)\n",
    "grads_m0 = np.mean(grads_m0_,axis=0)\n",
    "grads_m1 = np.mean(grads_m1_,axis=0)"
   ]
  },
  {
   "cell_type": "code",
   "execution_count": 29,
   "metadata": {},
   "outputs": [
    {
     "data": {
      "text/plain": [
       "<matplotlib.colorbar.Colorbar at 0x7f869e113af0>"
      ]
     },
     "execution_count": 29,
     "metadata": {},
     "output_type": "execute_result"
    },
    {
     "data": {
      "image/png": "[encoded data removed]",
      "text/plain": [
       "<Figure size 288x288 with 2 Axes>"
      ]
     },
     "metadata": {
      "needs_background": "light"
     },
     "output_type": "display_data"
    }
   ],
   "source": [
    "import matplotlib.pyplot as plt\n",
    "from sklearn.metrics.pairwise import cosine_similarity\n",
    "\n",
    "all_grads = np.row_stack((grads_m, grads_m0, grads_m1))\n",
    "sim_mat = cosine_similarity(all_grads, all_grads)\n",
    "\n",
    "plt.matshow(sim_mat)\n",
    "plt.colorbar()"
   ]
  },
  {
   "cell_type": "code",
   "execution_count": 39,
   "metadata": {},
   "outputs": [],
   "source": []
  },
  {
   "cell_type": "code",
   "execution_count": 41,
   "metadata": {},
   "outputs": [
    {
     "data": {
      "text/plain": [
       "<matplotlib.colorbar.Colorbar at 0x7f86800acb50>"
      ]
     },
     "execution_count": 41,
     "metadata": {},
     "output_type": "execute_result"
    },
    {
     "data": {
      "image/png": "[encoded data removed]",
      "text/plain": [
       "<Figure size 1152x144 with 2 Axes>"
      ]
     },
     "metadata": {
      "needs_background": "light"
     },
     "output_type": "display_data"
    },
    {
     "data": {
      "image/png": "[encoded data removed]",
      "text/plain": [
       "<Figure size 1152x144 with 2 Axes>"
      ]
     },
     "metadata": {
      "needs_background": "light"
     },
     "output_type": "display_data"
    }
   ],
   "source": [
    "sim_mat_ind00 = cosine_similarity(np.expand_dims(grads_m0,axis=0), grads_ind0)\n",
    "plt.matshow(sim_mat_ind00)\n",
    "plt.colorbar()\n",
    "sim_mat_ind01 = cosine_similarity(np.expand_dims(grads_m1,axis=0), grads_ind0)\n",
    "plt.matshow(sim_mat_ind01)\n",
    "plt.colorbar()"
   ]
  },
  {
   "cell_type": "code",
   "execution_count": null,
   "metadata": {},
   "outputs": [],
   "source": [
    "sim_mat_ind0 = cosine_similarity(all_grads, grads_ind1)\n",
    "plt.matshow(sim_mat_ind1)\n",
    "plt.colorbar()"
   ]
  },
  {
   "cell_type": "raw",
   "metadata": {},
   "source": []
  }
 ],
 "metadata": {
  "kernelspec": {
   "display_name": "Python 3",
   "language": "python",
   "name": "python3"
  },
  "language_info": {
   "codemirror_mode": {
    "name": "ipython",
    "version": 3
   },
   "file_extension": ".py",
   "mimetype": "text/x-python",
   "name": "python",
   "nbconvert_exporter": "python",
   "pygments_lexer": "ipython3",
   "version": "3.8.3"
  }
 },
 "nbformat": 4,
 "nbformat_minor": 5
}
