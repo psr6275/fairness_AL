{
 "cells": [
  {
   "cell_type": "code",
   "execution_count": 1,
   "metadata": {},
   "outputs": [],
   "source": [
    "import torch\n",
    "import torch.nn as nn\n",
    "import torch.nn.functional as F\n",
    "import torch.optim as optim\n",
    "\n",
    "device = torch.device('cuda:0')"
   ]
  },
  {
   "cell_type": "code",
   "execution_count": 2,
   "metadata": {},
   "outputs": [],
   "source": [
    "import numpy as np"
   ]
  },
  {
   "cell_type": "code",
   "execution_count": 3,
   "metadata": {},
   "outputs": [],
   "source": [
    "from utils.data_utils import load_simulation_data"
   ]
  },
  {
   "cell_type": "code",
   "execution_count": 4,
   "metadata": {},
   "outputs": [],
   "source": [
    "Xtr,Xte,ytr,yte,Ztr,Zte = load_simulation_data(simulation_params = {'p':100,'q':60, 'r':30, 'b':-10, 't':20}, \n",
    "                                               n1=1000, n2=400, svm=False, random_state=55, intercept=False, \n",
    "                                               train_frac = 0.7)"
   ]
  },
  {
   "cell_type": "code",
   "execution_count": 5,
   "metadata": {},
   "outputs": [],
   "source": [
    "from utils.data_utils import dataset_description, input_uniqueness, initial_dataloaders\n",
    "from utils.data_utils import load_data_with_name"
   ]
  },
  {
   "cell_type": "code",
   "execution_count": 6,
   "metadata": {},
   "outputs": [],
   "source": [
    "args_dic = {}\n",
    "args_dic['epochs'] = 100\n",
    "args_dic['batch_size']=64\n",
    "args_dic['AL_batch']=32\n",
    "args_dic['init_num'] = 100\n",
    "args_dic['tr_num'] = Xtr.shape[0]\n",
    "args_dic['AL_iters'] = None # if None, we can conduct AL for whole dataset\n",
    "args_dic['AL_select']='acc'\n",
    "args_dic['val_ratio'] =0.2 \n",
    "args_dic['val_scheduler'] ='linear' ## validation ratio scheduler add!\n",
    "args_dic['problem_type'] = 'binary' \n",
    "args_dic['model_type'] ='LR'\n",
    "args_dic['model_args'] ={'n_hidden':32, 'p_dropout':0.0}\n",
    "args_dic['dataset'] = 'simulation'\n",
    "args_dic['save_model']=True\n",
    "args_dic['save_dir'] = None"
   ]
  },
  {
   "cell_type": "code",
   "execution_count": 7,
   "metadata": {},
   "outputs": [
    {
     "name": "stdout",
     "output_type": "stream",
     "text": [
      "need to set selection params!\n",
      "save directory:  ../results/simulation/220316_0009\n"
     ]
    }
   ],
   "source": [
    "from utils import config\n",
    "args = config.Args(**args_dic)"
   ]
  },
  {
   "cell_type": "code",
   "execution_count": 8,
   "metadata": {},
   "outputs": [
    {
     "data": {
      "image/png": "[encoded data removed]",
      "text/plain": [
       "<Figure size 720x216 with 3 Axes>"
      ]
     },
     "metadata": {
      "needs_background": "light"
     },
     "output_type": "display_data"
    },
    {
     "data": {
      "image/png": "[encoded data removed]",
      "text/plain": [
       "<Figure size 720x216 with 3 Axes>"
      ]
     },
     "metadata": {
      "needs_background": "light"
     },
     "output_type": "display_data"
    }
   ],
   "source": [
    "dataset_description(Xtr,ytr,Ztr, dataname=args.dataset+'_train')\n",
    "dataset_description(Xte,yte,Zte, dataname=args.dataset+'_test')"
   ]
  },
  {
   "cell_type": "code",
   "execution_count": 9,
   "metadata": {},
   "outputs": [
    {
     "name": "stdout",
     "output_type": "stream",
     "text": [
      "1400 1400\n",
      "satisfy uniqueness\n"
     ]
    }
   ],
   "source": [
    "input_uniqueness(Xtr,Xte)"
   ]
  },
  {
   "cell_type": "code",
   "execution_count": 10,
   "metadata": {},
   "outputs": [
    {
     "name": "stdout",
     "output_type": "stream",
     "text": [
      "train epochs/batch: 100/64\n",
      "AL iters/batch: 28/32\n",
      "AL selection is based on  acc\n",
      "initial number and validation ratio are 100/0.2\n",
      "problem and models are binary/LR\n"
     ]
    }
   ],
   "source": [
    "args.print_args()"
   ]
  },
  {
   "cell_type": "code",
   "execution_count": 11,
   "metadata": {},
   "outputs": [],
   "source": [
    "sel_args = {\"param_names\":None, \"last_layer\":False, \"sel_idxs\": None, \"normalize\":True}\n",
    "sel_type = \"entropy\" # identity, binary_entropy, entropy, random\n",
    "args.set_selection_params(sel_type,sel_args)"
   ]
  },
  {
   "cell_type": "code",
   "execution_count": 12,
   "metadata": {},
   "outputs": [],
   "source": [
    "N1 = args.init_num\n",
    "train_loader, select_loader, test_loader = initial_dataloaders(Xtr,ytr,Ztr,Xte,yte,Zte,N1,args)"
   ]
  },
  {
   "cell_type": "code",
   "execution_count": null,
   "metadata": {},
   "outputs": [],
   "source": [
    "args.AL_iters"
   ]
  },
  {
   "cell_type": "markdown",
   "metadata": {},
   "source": [
    "# Train model"
   ]
  },
  {
   "cell_type": "code",
   "execution_count": null,
   "metadata": {},
   "outputs": [],
   "source": [
    "from utils.train_utils import train_AL, train_AL_valid,train_AL_valid_trgrad"
   ]
  },
  {
   "cell_type": "code",
   "execution_count": null,
   "metadata": {},
   "outputs": [],
   "source": [
    "clf, train_loader_p, select_loader_p, gids = train_AL_valid_trgrad(train_loader, select_loader, device, \n",
    "                                                      args, test_loader, True)"
   ]
  },
  {
   "cell_type": "code",
   "execution_count": null,
   "metadata": {},
   "outputs": [],
   "source": [
    "from utils.data_utils import save_dataloader"
   ]
  },
  {
   "cell_type": "code",
   "execution_count": null,
   "metadata": {},
   "outputs": [],
   "source": [
    "save_dataloader(args.save_dir,test_loader)"
   ]
  },
  {
   "cell_type": "code",
   "execution_count": null,
   "metadata": {},
   "outputs": [],
   "source": [
    "import os"
   ]
  },
  {
   "cell_type": "code",
   "execution_count": null,
   "metadata": {},
   "outputs": [],
   "source": [
    "with open(os.path.join(args.save_dir,'train_AL_valid_trgrad.txt'),'w') as f:\n",
    "    f.write(str(args_dic))\n",
    "    f.write(\"\\n\")\n",
    "    f.write(sel_type)\n",
    "    f.write(\"\\n\")\n",
    "    f.write(str(sel_args))    "
   ]
  },
  {
   "cell_type": "code",
   "execution_count": null,
   "metadata": {},
   "outputs": [],
   "source": [
    "import pickle\n",
    "with open(os.path.join(args.save_dir,'selected_group_results.pkl'),'wb') as f:\n",
    "    pickle.dump(gids, f)"
   ]
  },
  {
   "cell_type": "code",
   "execution_count": null,
   "metadata": {},
   "outputs": [],
   "source": []
  }
 ],
 "metadata": {
  "kernelspec": {
   "display_name": "pytorch15",
   "language": "python",
   "name": "pytorch15"
  },
  "language_info": {
   "codemirror_mode": {
    "name": "ipython",
    "version": 3
   },
   "file_extension": ".py",
   "mimetype": "text/x-python",
   "name": "python",
   "nbconvert_exporter": "python",
   "pygments_lexer": "ipython3",
   "version": "3.8.3"
  }
 },
 "nbformat": 4,
 "nbformat_minor": 5
}
