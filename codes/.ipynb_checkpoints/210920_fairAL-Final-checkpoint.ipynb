{
 "cells": [
  {
   "cell_type": "code",
   "execution_count": 1,
   "metadata": {},
   "outputs": [],
   "source": [
    "import torch"
   ]
  },
  {
   "cell_type": "code",
   "execution_count": 2,
   "metadata": {},
   "outputs": [
    {
     "name": "stdout",
     "output_type": "stream",
     "text": [
      "Current cuda device  2\n",
      "GeForce RTX 2080 Ti\n",
      "Memory Usage:\n",
      "Allocated: 0.0 GB\n",
      "Cached:    0.0 GB\n"
     ]
    }
   ],
   "source": [
    "GPU_NUM = 0\n",
    "device = torch.device(f'cuda:{GPU_NUM}' if torch.cuda.is_available() else 'cpu')\n",
    "torch.cuda.set_device(device) # change allocation of current GPU\n",
    "# print ('Current cuda device ', torch.cuda.current_device()) # check\n",
    "\n",
    "# # Additional Infos\n",
    "# if device.type == 'cuda':\n",
    "#     print(torch.cuda.get_device_name(GPU_NUM))\n",
    "#     print('Memory Usage:')\n",
    "#     print('Allocated:', round(torch.cuda.memory_allocated(GPU_NUM)/1024**3,1), 'GB')\n",
    "#     print('Cached:   ', round(torch.cuda.memory_cached(GPU_NUM)/1024**3,1), 'GB')"
   ]
  },
  {
   "cell_type": "code",
   "execution_count": 3,
   "metadata": {},
   "outputs": [],
   "source": [
    "from load_data import *"
   ]
  },
  {
   "cell_type": "code",
   "execution_count": 4,
   "metadata": {},
   "outputs": [],
   "source": [
    "Xtr, Xte, ytr, yte, Ztr, Zte = load_german_data()\n",
    "ytr = ytr.astype('float32').reshape((-1,1))\n",
    "yte = yte.astype('float32').reshape((-1,1))"
   ]
  },
  {
   "cell_type": "code",
   "execution_count": 5,
   "metadata": {},
   "outputs": [
    {
     "data": {
      "image/png": "[encoded data removed]",
      "text/plain": [
       "<Figure size 432x288 with 1 Axes>"
      ]
     },
     "metadata": {
      "needs_background": "light"
     },
     "output_type": "display_data"
    }
   ],
   "source": [
    "import matplotlib.pyplot as plt\n",
    "plt.hist(Ztr[:,0])\n",
    "plt.show()"
   ]
  },
  {
   "cell_type": "code",
   "execution_count": 6,
   "metadata": {},
   "outputs": [
    {
     "data": {
      "image/png": "[encoded data removed]",
      "text/plain": [
       "<Figure size 432x288 with 1 Axes>"
      ]
     },
     "metadata": {
      "needs_background": "light"
     },
     "output_type": "display_data"
    }
   ],
   "source": [
    "plt.hist(ytr)\n",
    "plt.show()"
   ]
  },
  {
   "cell_type": "code",
   "execution_count": 7,
   "metadata": {},
   "outputs": [
    {
     "data": {
      "text/plain": [
       "array([0.18571429])"
      ]
     },
     "execution_count": 7,
     "metadata": {},
     "output_type": "execute_result"
    }
   ],
   "source": [
    "sum(Ztr==0)/len(Ztr)"
   ]
  },
  {
   "cell_type": "code",
   "execution_count": 8,
   "metadata": {},
   "outputs": [
    {
     "name": "stdout",
     "output_type": "stream",
     "text": [
      "# training samples: (700, 23)\n",
      "# test samples: (300, 23)\n",
      "# sensitive vars (700, 1)\n"
     ]
    }
   ],
   "source": [
    "print('# training samples:', Xtr.shape)\n",
    "print('# test samples:', Xte.shape)\n",
    "print('# sensitive vars', Ztr.shape)\n"
   ]
  },
  {
   "cell_type": "code",
   "execution_count": 9,
   "metadata": {},
   "outputs": [],
   "source": [
    "N1 = 100\n",
    "Xtr1 = Xtr[:N1]\n",
    "ytr1 = ytr[:N1]\n",
    "Ztr1 = Ztr[:N1]\n",
    "Xtr2 = Xtr[N1:]\n",
    "ytr2 = ytr[N1:]\n",
    "Ztr2 = Ztr[N1:]"
   ]
  },
  {
   "cell_type": "code",
   "execution_count": 10,
   "metadata": {},
   "outputs": [
    {
     "data": {
      "text/plain": [
       "array([0., 1.])"
      ]
     },
     "execution_count": 10,
     "metadata": {},
     "output_type": "execute_result"
    }
   ],
   "source": [
    "np.unique(Ztr)"
   ]
  },
  {
   "cell_type": "code",
   "execution_count": 11,
   "metadata": {},
   "outputs": [
    {
     "data": {
      "text/plain": [
       "(700, 1)"
      ]
     },
     "execution_count": 11,
     "metadata": {},
     "output_type": "execute_result"
    }
   ],
   "source": [
    "Ztr.shape"
   ]
  },
  {
   "cell_type": "code",
   "execution_count": 12,
   "metadata": {},
   "outputs": [],
   "source": [
    "import torch.nn as nn\n",
    "import torch.nn.functional as F\n",
    "import torch.optim as optim"
   ]
  },
  {
   "cell_type": "code",
   "execution_count": 13,
   "metadata": {},
   "outputs": [],
   "source": [
    "from fairNN_train import *\n",
    "from load_data import *"
   ]
  },
  {
   "cell_type": "code",
   "execution_count": 14,
   "metadata": {},
   "outputs": [],
   "source": [
    "class Args:\n",
    "    def __init__(self):\n",
    "        self.epochs = 30\n",
    "        self.AL_iters = 10\n",
    "        self.AL_batch = 32\n",
    "        self.batch_size = 32\n",
    "        self.AL_select = 'loss'\n",
    "        \n",
    "    def print_args(self):\n",
    "        print(\"train epochs/batch: {}/{}\".format(self.epochs,self.batch_size))\n",
    "        print(\"AL iters/batch: {}/{}\".format(self.AL_iters,self.AL_batch))\n",
    "        print(\"AL selection is based on \", self.AL_select)"
   ]
  },
  {
   "cell_type": "code",
   "execution_count": 15,
   "metadata": {},
   "outputs": [],
   "source": [
    "args = Args()"
   ]
  },
  {
   "cell_type": "code",
   "execution_count": 16,
   "metadata": {},
   "outputs": [],
   "source": [
    "train_data = NPsDataSet(Xtr1, ytr1, Ztr1)\n",
    "train_loader = DataLoader(train_data, batch_size=args.batch_size, shuffle=True, drop_last=True)"
   ]
  },
  {
   "cell_type": "code",
   "execution_count": 17,
   "metadata": {},
   "outputs": [],
   "source": [
    "from fair_eval import *"
   ]
  },
  {
   "cell_type": "code",
   "execution_count": 18,
   "metadata": {},
   "outputs": [],
   "source": [
    "zZtr2 = transform_dum2cat(Ztr2)\n",
    "select_data = NPsDataSet(Xtr2, ytr2, zZtr2)\n",
    "select_loader = DataLoader(select_data, batch_size=args.batch_size, shuffle=False, drop_last=False)"
   ]
  },
  {
   "cell_type": "code",
   "execution_count": 19,
   "metadata": {},
   "outputs": [],
   "source": [
    "test_data = NPsDataSet(Xte, yte, Zte)\n",
    "test_loader = DataLoader(test_data, batch_size=args.batch_size, shuffle=False, drop_last=False)"
   ]
  },
  {
   "cell_type": "markdown",
   "metadata": {},
   "source": [
    "- gradient calculation for unlabeled set\n",
    "- expectation \n",
    "- https://discuss.pytorch.org/t/how-to-efficiently-compute-gradient-for-each-training-sample/60001/2 \n",
    "- https://github.com/cybertronai/autograd-hacks#per-example-gradients \n",
    "- https://tutorials.pytorch.kr/intermediate/tensorboard_tutorial.html"
   ]
  },
  {
   "cell_type": "markdown",
   "metadata": {},
   "source": [
    "# Group Selection Part"
   ]
  },
  {
   "cell_type": "markdown",
   "metadata": {},
   "source": [
    "## Test Group Performance"
   ]
  },
  {
   "cell_type": "markdown",
   "metadata": {},
   "source": [
    "## find examples for the worst group"
   ]
  },
  {
   "cell_type": "code",
   "execution_count": 20,
   "metadata": {},
   "outputs": [],
   "source": [
    "from fairAL_utils import *"
   ]
  },
  {
   "cell_type": "markdown",
   "metadata": {},
   "source": [
    "## retraining models"
   ]
  },
  {
   "cell_type": "code",
   "execution_count": 21,
   "metadata": {},
   "outputs": [],
   "source": [
    "def train_AL(train_loader, select_loader, device, args = None, test_loader = None, from_scratch = False):\n",
    "    if args is None:\n",
    "        args = Args()\n",
    "    print(\"arguments: \", args.print_args())\n",
    "    n_features = train_loader.dataset.tensors[0].shape[1]\n",
    "    if from_scratch == False:\n",
    "        clf = Classifier(n_features=n_features)\n",
    "        clf_criterion = nn.BCELoss()\n",
    "        clf_optimizer = optim.Adam(clf.parameters())\n",
    "    \n",
    "    assert((args.AL_iters-1)*args.AL_batch<select_loader.dataset.tensors[0].shape[0])\n",
    "    for it in range(args.AL_iters):\n",
    "        if from_scratch:\n",
    "            clf = Classifier(n_features=n_features)\n",
    "            clf_criterion = nn.BCELoss()\n",
    "            clf_optimizer = optim.Adam(clf.parameters())\n",
    "        clf.cuda()\n",
    "        train_model(clf, train_loader, clf_criterion, clf_optimizer, device, args, test_loader)\n",
    "        trTensors = train_loader.dataset.tensors\n",
    "        dldic = divide_groupsDL(trTensors[0],trTensors[1],trTensors[2])\n",
    "        losss = 0\n",
    "        accs = 0\n",
    "        sid = list(dldic.keys())[0]\n",
    "        for did in dldic.keys():\n",
    "            loss_v, acc_v = test_model_noz(clf, dldic[did],clf_criterion, device)\n",
    "            print(\"{} : loss {} / acc {}\".format(did, loss_v, acc_v))\n",
    "            if args.AL_select == 'loss':\n",
    "                if losss > loss_v:\n",
    "                    sid = did\n",
    "            else:\n",
    "                assert args.AL_select == 'acc'\n",
    "                if accs < acc_v:\n",
    "                    sid = did\n",
    "        if it <args.AL_iters-1:\n",
    "            grads = cal_meangrad(clf, dldic[sid], clf_criterion, device)\n",
    "            ses,sidx = select_examples(clf, select_loader, clf_criterion, grads,device, args.AL_batch)\n",
    "#             print(ses)\n",
    "            train_loader, select_loader = obtain_newDS(train_loader, select_loader, ses, sidx, args.batch_size)\n",
    "    return clf    "
   ]
  },
  {
   "cell_type": "code",
   "execution_count": 23,
   "metadata": {},
   "outputs": [
    {
     "data": {
      "image/png": "[encoded data removed]",
      "text/plain": [
       "<Figure size 864x576 with 2 Axes>"
      ]
     },
     "metadata": {
      "needs_background": "light"
     },
     "output_type": "display_data"
    },
    {
     "name": "stdout",
     "output_type": "stream",
     "text": [
      "Accuracy\n",
      "\ttraining         \t (min:   46.649, max:   85.825, cur:   85.825)\n",
      "\tvalidation       \t (min:   41.333, max:   71.667, cur:   64.000)\n",
      "Loss\n",
      "\ttraining         \t (min:    0.356, max:    0.696, cur:    0.365)\n",
      "\tvalidation       \t (min:    0.660, max:    0.786, cur:    0.753)\n",
      "Finished Training\n",
      "0.0 : loss 0.3113325238227844 / acc 90.24390411376953\n",
      "1.0 : loss 0.3378344178199768 / acc 87.90849304199219\n"
     ]
    },
    {
     "data": {
      "text/plain": [
       "Classifier(\n",
       "  (network): Sequential(\n",
       "    (0): Linear(in_features=23, out_features=32, bias=True)\n",
       "    (1): ReLU()\n",
       "    (2): Dropout(p=0.2, inplace=False)\n",
       "    (3): Linear(in_features=32, out_features=32, bias=True)\n",
       "    (4): ReLU()\n",
       "    (5): Dropout(p=0.2, inplace=False)\n",
       "    (6): Linear(in_features=32, out_features=32, bias=True)\n",
       "    (7): ReLU()\n",
       "    (8): Dropout(p=0.2, inplace=False)\n",
       "    (9): Linear(in_features=32, out_features=1, bias=True)\n",
       "  )\n",
       ")"
      ]
     },
     "execution_count": 23,
     "metadata": {},
     "output_type": "execute_result"
    }
   ],
   "source": [
    "train_AL(train_loader, select_loader, device, args, test_loader, from_scratch = True)"
   ]
  },
  {
   "cell_type": "code",
   "execution_count": 40,
   "metadata": {},
   "outputs": [
    {
     "data": {
      "text/plain": [
       "[0.0, 1.0]"
      ]
     },
     "execution_count": 40,
     "metadata": {},
     "output_type": "execute_result"
    }
   ],
   "source": []
  },
  {
   "cell_type": "code",
   "execution_count": null,
   "metadata": {},
   "outputs": [],
   "source": []
  }
 ],
 "metadata": {
  "kernelspec": {
   "display_name": "pytorch15",
   "language": "python",
   "name": "pytorch15"
  },
  "language_info": {
   "codemirror_mode": {
    "name": "ipython",
    "version": 3
   },
   "file_extension": ".py",
   "mimetype": "text/x-python",
   "name": "python",
   "nbconvert_exporter": "python",
   "pygments_lexer": "ipython3",
   "version": "3.8.3"
  }
 },
 "nbformat": 4,
 "nbformat_minor": 4
}
